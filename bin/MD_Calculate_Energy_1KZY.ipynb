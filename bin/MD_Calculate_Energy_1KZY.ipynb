{
 "cells": [
  {
   "cell_type": "code",
   "execution_count": 5,
   "metadata": {},
   "outputs": [
    {
     "name": "stdout",
     "output_type": "stream",
     "text": [
      "Loading...\n",
      "Adding hydrogens...\n",
      "Adding solvent...\n",
      "Minimizing...\n",
      "Saving...\n",
      "done\n"
     ]
    }
   ],
   "source": [
    "from simtk.openmm.app import *\n",
    "from simtk.openmm import *\n",
    "from simtk.unit import *\n",
    "\n",
    "f = open('ABCD.csv', 'w') #file to write chain data in\n",
    "print('Loading...')\n",
    "pdb = PDBFile('1kzy.clean.pdb')\n",
    "forcefield = ForceField('amber99sb.xml', 'tip3p.xml')\n",
    "modeller = Modeller(pdb.topology, pdb.positions) #initialize modeller\n",
    "print('Adding hydrogens...')\n",
    "modeller.addHydrogens(forcefield) #create forcefield\n",
    "print('Adding solvent...')\n",
    "modeller.addSolvent(forcefield, model='tip3p', padding=1*nanometer) #neutralize the system with ions\n",
    "print('Minimizing...')\n",
    "system = forcefield.createSystem(modeller.topology, nonbondedMethod=PME)\n",
    "integrator = LangevinIntegrator(300*kelvin, 1/picosecond, 0.001*picoseconds)\n",
    "##integrator = VerletIntegrator(2.0*femtoseconds)\n",
    "platform = Platform.getPlatformByName('OpenCL')\n",
    "simulation = Simulation(modeller.topology, system, integrator, platform)\n",
    "simulation.context.setPositions(modeller.positions)\n",
    "simulation.minimizeEnergy()\n",
    "simulation.reporters.append(PDBReporter('ABCDtmp.pdb', 1000))\n",
    "print('Saving...')\n",
    "\n",
    "simulation.reporters.append(StateDataReporter(f, 100, step=True,kineticEnergy=True,\n",
    "                                              potentialEnergy=True,totalEnergy = True,density = True,temperature=True)) \n",
    "#for every 100 steps, write into f \n",
    "simulation.step(30000) #run for 30000 steps\n",
    "print('done')"
   ]
  },
  {
   "cell_type": "code",
   "execution_count": 6,
   "metadata": {},
   "outputs": [
    {
     "name": "stdout",
     "output_type": "stream",
     "text": [
      "Loading...\n",
      "Adding hydrogens...\n",
      "Adding solvent...\n",
      "Minimizing...\n",
      "Saving...\n",
      "done\n"
     ]
    }
   ],
   "source": [
    "from simtk.openmm.app import *\n",
    "from simtk.openmm import *\n",
    "from simtk.unit import *\n",
    "f = open('CD.csv', 'w')#file to write chain data in\n",
    "print('Loading...')\n",
    "pdb = PDBFile('CD.pdb')\n",
    "forcefield = ForceField('amber99sb.xml', 'tip3p.xml')#create forcefield\n",
    "modeller = Modeller(pdb.topology, pdb.positions)#initialize modeller\n",
    "print('Adding hydrogens...')\n",
    "modeller.addHydrogens(forcefield)\n",
    "print('Adding solvent...')\n",
    "modeller.addSolvent(forcefield, model='tip3p', padding=1*nanometer)#neutralize the system with ions\n",
    "print('Minimizing...')\n",
    "system = forcefield.createSystem(modeller.topology, nonbondedMethod=PME)\n",
    "integrator = LangevinIntegrator(300*kelvin, 1/picosecond, 0.001*picoseconds)\n",
    "platform = Platform.getPlatformByName('OpenCL')\n",
    "simulation = Simulation(modeller.topology, system, integrator, platform)\n",
    "simulation.context.setPositions(modeller.positions)\n",
    "simulation.minimizeEnergy()\n",
    "simulation.reporters.append(PDBReporter('CDtest.pdb', 1000))\n",
    "print('Saving...')\n",
    "\n",
    "simulation.reporters.append(StateDataReporter(f, 100, step=True,kineticEnergy=True,\n",
    "                                              potentialEnergy=True,totalEnergy = True,temperature=True,density = True))\n",
    "#for every 100 steps, write into f \n",
    "simulation.step(30000)#run for 30000 steps\n",
    "print('done')"
   ]
  },
  {
   "cell_type": "code",
   "execution_count": 7,
   "metadata": {},
   "outputs": [
    {
     "name": "stdout",
     "output_type": "stream",
     "text": [
      "Loading...\n",
      "Adding hydrogens...\n",
      "Adding solvent...\n",
      "Minimizing...\n",
      "Saving...\n",
      "done\n"
     ]
    }
   ],
   "source": [
    "from simtk.openmm.app import *\n",
    "from simtk.openmm import *\n",
    "from simtk.unit import *\n",
    "f = open('AB.csv', 'w')#file to write chain data in\n",
    "print('Loading...')\n",
    "pdb = PDBFile('AB.pdb')\n",
    "forcefield = ForceField('amber99sb.xml', 'tip3p.xml')#create forcefield\n",
    "modeller = Modeller(pdb.topology, pdb.positions)#initialize modeller\n",
    "print('Adding hydrogens...')\n",
    "modeller.addHydrogens(forcefield)\n",
    "print('Adding solvent...')\n",
    "modeller.addSolvent(forcefield, model='tip3p', padding=1*nanometer)#neutralize the system with ions\n",
    "print('Minimizing...')\n",
    "system = forcefield.createSystem(modeller.topology, nonbondedMethod=PME)\n",
    "\n",
    "integrator = LangevinIntegrator(300*kelvin, 1/picosecond, 0.001*picoseconds)\n",
    "##integrator = VerletIntegrator(2.0*femtoseconds)\n",
    "platform = Platform.getPlatformByName('OpenCL')\n",
    "simulation = Simulation(modeller.topology, system, integrator, platform)\n",
    "simulation.context.setPositions(modeller.positions)\n",
    "simulation.minimizeEnergy()\n",
    "simulation.reporters.append(PDBReporter('ABtmp.pdb', 1000))\n",
    "print('Saving...')\n",
    "\n",
    "simulation.reporters.append(StateDataReporter(f, 100, step=True,kineticEnergy=True,\n",
    "                                              potentialEnergy=True,totalEnergy = True,temperature=True,density = True))\n",
    "#for every 100 steps, write into f \n",
    "simulation.step(30000)#run for 30000 steps\n",
    "print('done')"
   ]
  },
  {
   "cell_type": "markdown",
   "metadata": {
    "collapsed": true
   },
   "source": [
    "## NVE\n",
    "#### constant number of particles\n",
    "#### constant volume\n",
    "#### constant energy or conserved energy"
   ]
  },
  {
   "cell_type": "code",
   "execution_count": 8,
   "metadata": {},
   "outputs": [
    {
     "data": {
      "text/plain": [
       "<Topology; 2 chains, 390 residues, 3060 atoms, 3130 bonds>"
      ]
     },
     "execution_count": 8,
     "metadata": {},
     "output_type": "execute_result"
    }
   ],
   "source": [
    "pdb.topology"
   ]
  },
  {
   "cell_type": "code",
   "execution_count": null,
   "metadata": {},
   "outputs": [],
   "source": [
    "import py3Dmol #visualize protein sample\n",
    "view = py3Dmol.view(query='pdb:1kzy')\n",
    "view.setStyle({'cartoon':{'color':'spectrum'}})\n",
    "view"
   ]
  },
  {
   "cell_type": "code",
   "execution_count": null,
   "metadata": {
    "collapsed": true
   },
   "outputs": [],
   "source": []
  },
  {
   "cell_type": "code",
   "execution_count": null,
   "metadata": {
    "collapsed": true
   },
   "outputs": [],
   "source": []
  },
  {
   "cell_type": "code",
   "execution_count": null,
   "metadata": {
    "collapsed": true
   },
   "outputs": [],
   "source": []
  },
  {
   "cell_type": "code",
   "execution_count": null,
   "metadata": {
    "collapsed": true
   },
   "outputs": [],
   "source": []
  }
 ],
 "metadata": {
  "kernelspec": {
   "display_name": "Python 3",
   "language": "python",
   "name": "python3"
  },
  "language_info": {
   "codemirror_mode": {
    "name": "ipython",
    "version": 3
   },
   "file_extension": ".py",
   "mimetype": "text/x-python",
   "name": "python",
   "nbconvert_exporter": "python",
   "pygments_lexer": "ipython3",
   "version": "3.6.2"
  }
 },
 "nbformat": 4,
 "nbformat_minor": 2
}
